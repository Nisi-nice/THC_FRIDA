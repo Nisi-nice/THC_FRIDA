{
  "nbformat": 4,
  "nbformat_minor": 0,
  "metadata": {
    "colab": {
      "provenance": [],
      "authorship_tag": "ABX9TyM3PO/4HNj8Gl/5fuwpgCPe",
      "include_colab_link": true
    },
    "kernelspec": {
      "name": "python3",
      "display_name": "Python 3"
    },
    "language_info": {
      "name": "python"
    }
  },
  "cells": [
    {
      "cell_type": "markdown",
      "metadata": {
        "id": "view-in-github",
        "colab_type": "text"
      },
      "source": [
        "<a href=\"https://colab.research.google.com/github/Nisi-nice/THC_FRIDA/blob/main/Tarea4_THC_frida.ipynb\" target=\"_parent\"><img src=\"https://colab.research.google.com/assets/colab-badge.svg\" alt=\"Open In Colab\"/></a>"
      ]
    },
    {
      "cell_type": "markdown",
      "source": [
        "## Tarea 4 phyton\n",
        "\n",
        "**Frida Dávalos c: **\n",
        "\n",
        "\n",
        "Ejercicios prácticos:"
      ],
      "metadata": {
        "id": "bTUpS8ahHcYT"
      }
    },
    {
      "cell_type": "markdown",
      "source": [
        "Ejercicio 1. Convertidor de dolares 🐔:"
      ],
      "metadata": {
        "id": "c8hFAJ8MJ5kP"
      }
    },
    {
      "cell_type": "code",
      "execution_count": null,
      "metadata": {
        "colab": {
          "base_uri": "https://localhost:8080/"
        },
        "id": "YUVd6p4_u5wy",
        "outputId": "b747f977-d84c-4df0-edb5-074c50756225"
      },
      "outputs": [
        {
          "output_type": "stream",
          "name": "stdout",
          "text": [
            "Ingrese cantidad de dólares americanos: 5\n",
            "Pesos mexicanos: 99.25\n",
            "Euros: 4.6000000000000005\n",
            "Libras esterlinas: 3.85\n",
            "Yuanes: 35.6\n",
            "Rublos: 482.9\n"
          ]
        }
      ],
      "source": [
        "#El codigo hace lo siguente:\n",
        "#Convierte USD a MXN, EUR, GBP, CNY, RUB (Son las monedas de cos paises con el código ISO porque es más fácil usarlas como variables)\n",
        "\n",
        "USD=float(input(\"Ingrese cantidad de dólares americanos: \"))\n",
        "#Usé como tasa fija el valor de las moneadas hoy 25 de octubre de 2024:\n",
        "# 1 USD= 19.85 MXN, 0.92 EUR, 0.77 GBP, 7.12 CNY, 96.58 RUB\n",
        "MXN=USD*19.85\n",
        "EUR=USD*0.92\n",
        "GBP=USD*0.77\n",
        "CNY=USD*7.12\n",
        "RUB=USD*96.58\n",
        "\n",
        "print(\"Pesos mexicanos: \"+str(MXN))\n",
        "print(\"Euros: \"+str(EUR))\n",
        "print(\"Libras esterlinas: \"+str(GBP))\n",
        "print(\"Yuanes: \"+str(CNY))\n",
        "print(\"Rublos: \"+str(RUB))"
      ]
    },
    {
      "cell_type": "markdown",
      "source": [
        "Ejercicio 2. programa que pida al usuario su edad y clasifique la entrada en 'niño', 'adolescente', 'adulto' o 'adulto mayor'."
      ],
      "metadata": {
        "id": "LkrDhQhiJrVb"
      }
    },
    {
      "cell_type": "code",
      "source": [
        "#La edad se clasificará de la siguiente forma: 0-5 bebé entonces no entran jj, niños 6-12 años, adolescentes 13-18, adulto 19-59, adulto mayor 60 en adelante\n",
        "Edad=int(input(\"Ingrese su edad: \"))\n",
        "if Edad<=5:\n",
        "    print(\"No entra\")\n",
        "elif Edad>=6 and Edad<=12:\n",
        "    print(\"Entrada: Niño\")\n",
        "elif Edad>=13 and Edad<=18:\n",
        "    print(\"Entrada: Adolescente\")\n",
        "elif Edad>=19 and Edad<=59:\n",
        "    print(\"Entrada:Adulto\")\n",
        "elif Edad>=60:\n",
        "    print(\"Entrada: Adulto mayor\")"
      ],
      "metadata": {
        "colab": {
          "base_uri": "https://localhost:8080/"
        },
        "id": "X60R-tdNJz6C",
        "outputId": "7c3dda47-81cc-4708-8179-e2ca8cba8f6e"
      },
      "execution_count": null,
      "outputs": [
        {
          "output_type": "stream",
          "name": "stdout",
          "text": [
            "Ingrese su edad: 7\n",
            "Entrada: Niño\n"
          ]
        }
      ]
    },
    {
      "cell_type": "markdown",
      "source": [
        "\n",
        "Ejercicio 3. Desarrolla un programa que calcule el precio final de un producto después de aplicar un descuento.\n",
        " El usuario debe ingresar el precio original y el porcentaje de descuento. Imprima el precio final."
      ],
      "metadata": {
        "id": "17IvsnFwHbLD"
      }
    },
    {
      "cell_type": "code",
      "source": [
        "precio=float(input(\"ingrese el precio: \"))\n",
        "porcentaje=float(input(\"ingrese el porcentaje de descuento (sólo el número):\"))\n",
        "descuento=precio*porcentaje/100 # aqui se divide el porcentaje entre diez para que se haga un número decimal\n",
        "final=precio-descuento #aqui se resta el descuento del precio original\n",
        "print(\"El precio final es: \"+str(final))\n"
      ],
      "metadata": {
        "colab": {
          "base_uri": "https://localhost:8080/"
        },
        "id": "SMKnuSanQNKI",
        "outputId": "8041ed66-0826-47dd-a11f-9634815068b5"
      },
      "execution_count": null,
      "outputs": [
        {
          "output_type": "stream",
          "name": "stdout",
          "text": [
            "ingrese el precio: 30\n",
            "ingrese el porcentaje de descuento (sólo el número):50\n",
            "El precio final es: 15.0\n"
          ]
        }
      ]
    },
    {
      "cell_type": "markdown",
      "source": [
        "Ejercicio 4. Crea un script que determine cuál de tres números introducidos por el usuario es el mayor, usando sentencias IF anidadas o múltiples ELIF."
      ],
      "metadata": {
        "id": "hT6BmDdYS1KD"
      }
    },
    {
      "cell_type": "code",
      "source": [
        "lista=str(input(\" Ingrese 3 numeros separados por una coma: \"))\n",
        "lista=lista.split(\",\")\n",
        "#con len va revisando los elementos de la lista según se lo pidamos\n",
        "if(lista[len(lista)-3])>(lista[len(lista)-2]) and (lista[len(lista)-3])>(lista[len(lista)-1]):\n",
        "    print(\"El numero mayor es: \"+str(lista[len(lista)-3]))\n",
        "elif(lista[len(lista)-2])>(lista[len(lista)-3]) and (lista[len(lista)-2])>(lista[len(lista)-1]):\n",
        "    print(\"El numero mayor es: \"+str(lista[len(lista)-2]))\n",
        "elif(lista[len(lista)-1])>(lista[len(lista)-2]) and (lista[len(lista)-1])>(lista[len(lista)-3]):\n",
        "    print(\"El numero mayor es: \"+str(lista[len(lista)-1]))\n"
      ],
      "metadata": {
        "colab": {
          "base_uri": "https://localhost:8080/"
        },
        "id": "jVCWAWtIS0vw",
        "outputId": "e6def985-1237-48a4-e60e-720804c48814"
      },
      "execution_count": null,
      "outputs": [
        {
          "output_type": "stream",
          "name": "stdout",
          "text": [
            " Ingrese 3 numeros separados por una coma: 6,7,3\n",
            "El numero mayor es: 7\n"
          ]
        }
      ]
    },
    {
      "cell_type": "markdown",
      "source": [
        "Ejercicio 5. Programe una función que resuelva ecuaciones de segundo grado utilizando la fórmula general.\n",
        "El usuario debe ingresar los valores de a, b y c. Genere valores por default por si el usuario no ingresa\n",
        "un número entero o flotante. Además, calcule el valor del discriminante\n",
        "(b^2 - 4ac) y determine si tiene soluciones reales, soluciones complejas. Imprima el resultado."
      ],
      "metadata": {
        "id": "49iUsqB0aMMC"
      }
    },
    {
      "cell_type": "code",
      "source": [
        "#Esto explica cómo pones que algo está elevado a algo C:\n",
        "#sirve para el programa del ejercicio 5\n",
        "algo=2**4 # ** es equivalenta a ^\n",
        "print(algo)\n",
        "algo2=2^7 # ^ no sé qué hace, pero le hace cosas feas al 2 :c\n",
        "print(algo2)"
      ],
      "metadata": {
        "colab": {
          "base_uri": "https://localhost:8080/"
        },
        "id": "vLwSr1eSyA2W",
        "outputId": "2bad65a6-257a-4764-ecc9-4551172ed774"
      },
      "execution_count": null,
      "outputs": [
        {
          "output_type": "stream",
          "name": "stdout",
          "text": [
            "16\n",
            "5\n"
          ]
        }
      ]
    },
    {
      "cell_type": "code",
      "source": [
        "import math\n",
        "\n",
        "# La formula general es: x = (-b ± √(b² - 4ac)) / 2a\n",
        "# Si el discriminante > 0, las dos raíces son reales\n",
        "\n",
        "# Esta función resuelve la ecuación general y tiene valores que están por defecto\n",
        "def ecuacion(a=1, b=4, c=4):\n",
        "    # Primero resuelve el discriminante\n",
        "    discriminante = b**2 - 4*a*c\n",
        "    print(\"Discriminante: \" + str(discriminante))\n",
        "\n",
        "    # Aquí determina, a partir del valor del discriminante, el tipo de solución que tiene la ecuación completa\n",
        "    # Si el discriminante > 0, las dos raíces son reales\n",
        "    if discriminante > 0:\n",
        "        x1 = (-b + math.sqrt(discriminante)) / (2*a)\n",
        "        x2 = (-b - math.sqrt(discriminante)) / (2*a)\n",
        "        print(\"Soluciones reales: x1 = \" + str(x1) + \", x2 = \" + str(x2))\n",
        "    # Si el discriminante = 0, solo hay una solución real\n",
        "    elif discriminante == 0:\n",
        "        x = -b / (2*a)\n",
        "        print(\"Solución real: x = \" + str(x))\n",
        "      #Si el discriminante es <0 no tiene solución real porque sería una raíz de un numero negativo.\n",
        "    else:\n",
        "       #aqui se divide la parte de la formula general que todavía no involucra el discriminante\n",
        "        parte1 = -b / (2*a)\n",
        "        #aqui se hace la raiz cuadrada del discriminante como si el discriminante fuera positivo\n",
        "        # por eso es -discriminante, porque es discriminante es negativo y -(-numero)= numero\n",
        "        # esto se puede hacer porque despues se va a multiplicar por i, 1=raiz de -1. Por ej. raiz de -numero= raiz de numero* raiz de -1\n",
        "        parte2 = math.sqrt(-discriminante) / (2*a)\n",
        "        x1 = str(parte1) + \" + \" + str(parte2) + \"i\"\n",
        "        x2 = str(parte1) + \" - \" + str(parte2) + \"i\"\n",
        "        print(\"Soluciones complejas: x1 = \" + str(x1) + \", x2 = \" + str(x2))\n",
        "\n",
        "\n",
        "#Aquí se piden los valores de a b y c , si está vacío se usan los valores que estan en la función\n",
        "a = float(input(\"Ingrese el valor de a (si se deja vacío, se usará 1): \"))\n",
        "b = float(input(\"Ingrese el valor de b (si se deja vacío, se usará 4): \"))\n",
        "c = float(input(\"Ingrese el valor de c (si se deja vacío, se usará 4): \"))\n",
        "\n",
        "ecuacion(a, b, c) #aqui ya solo se llama a la función que resuelve la ecuación e imprime los resultados c:\n",
        "\n",
        "#NOTA: usé de referencia https://www.matesfacil.com/SegundoGrado/ECUACIONES-SEGUNDO-GRADO-SOLUCIONES-COMPLEJAS.html, con los datos de la ecuación 3  corroboré que el programa funcionara correctamente"
      ],
      "metadata": {
        "colab": {
          "base_uri": "https://localhost:8080/"
        },
        "id": "A-99mNs4aKlY",
        "outputId": "62e965b7-3531-4322-f3e0-bb48d801ac55"
      },
      "execution_count": null,
      "outputs": [
        {
          "output_type": "stream",
          "name": "stdout",
          "text": [
            "Ingrese el valor de a (si se deja vacío, se usará 1): 1\n",
            "Ingrese el valor de b (si se deja vacío, se usará 4): 2\n",
            "Ingrese el valor de c (si se deja vacío, se usará 4): 5\n",
            "Discriminante: -16.0\n",
            "Soluciones complejas: x1 = -1.0 + 2.0i, x2 = -1.0 - 2.0i\n"
          ]
        }
      ]
    },
    {
      "cell_type": "markdown",
      "source": [
        "Ejercicio 6. Escriba una función que reciba una lista de números y devuelva dos listas: una con los números positivos y otra con los negativos."
      ],
      "metadata": {
        "id": "ZSHgwafDL87n"
      }
    },
    {
      "cell_type": "code",
      "source": [
        "def dosListas(lista):\n",
        "    #la función recibe lista y piensa que ya es una lista, entoncea hay que preguntar si es str para que lo divida porque si no, no jala\n",
        "    if isinstance(lista, str):\n",
        "        lista = lista.split(\",\")\n",
        "\n",
        "    positivos=[]  #lista para números positivos\n",
        "    negativos=[]  # lista para números negativos\n",
        "    # mientras haya elementos en la lista, se manda a revisar si son positivos o negativos\n",
        "    for numero in lista:\n",
        "        numero = float(numero)  # esto porque no lo puede manejar como str\n",
        "        # Aqui ve si el número es positivo o negativo\n",
        "        if numero > 0:\n",
        "            positivos.append(numero)\n",
        "        elif numero < 0:\n",
        "            negativos.append(numero)\n",
        "        else:\n",
        "            print(\"El 0 es 0 y teoría de números no resuelve\")\n",
        "\n",
        "    print(\"Números positivos:\" + str(positivos))\n",
        "    print(\"Números negativos:\" + str(negativos))\n",
        "\n",
        "lista = input(\"Ingrese numeros separados por una coma: \")\n",
        "dosListas(lista)\n",
        "\n",
        "#NOTA: Usé https://www.w3schools.com/python/ref_func_isinstance.asp porque no podía revisar los numeros si lo que recibía la función era una str"
      ],
      "metadata": {
        "colab": {
          "base_uri": "https://localhost:8080/"
        },
        "id": "9ELSAkbhU4_6",
        "outputId": "444a61f7-cedf-431e-c342-4832c31ea9c4"
      },
      "execution_count": null,
      "outputs": [
        {
          "output_type": "stream",
          "name": "stdout",
          "text": [
            "Ingrese numeros separados por una coma: 0,0,0,0,0,0\n",
            "El 0 es 0 y teoría de números no resuelve\n",
            "El 0 es 0 y teoría de números no resuelve\n",
            "El 0 es 0 y teoría de números no resuelve\n",
            "El 0 es 0 y teoría de números no resuelve\n",
            "El 0 es 0 y teoría de números no resuelve\n",
            "El 0 es 0 y teoría de números no resuelve\n",
            "Números positivos:[]\n",
            "Números negativos:[]\n"
          ]
        }
      ]
    },
    {
      "cell_type": "markdown",
      "source": [
        "Ejercicio 7. Escriba una función que reciba una lista de datos (la de abajo) y devuelva listas con los datos filtrados. Este programa debe separar los datos en **int**, **str**, **bool**, **float**. **Hint**: use la función **append** para insertar datos en las listas."
      ],
      "metadata": {
        "id": "LeEgWmUkNPj3"
      }
    },
    {
      "cell_type": "code",
      "source": [
        "Datos= [5, 2.4, \"hola\", 7, 10, 3.14,True,False, \"Hi\", 0, 0.265]# Esta es la lista \"de abajo\""
      ],
      "metadata": {
        "id": "JG-JmXSEXZf9"
      },
      "execution_count": null,
      "outputs": []
    },
    {
      "cell_type": "code",
      "source": [
        "#Este codigo es super similar al del ejercicio 6, por lo que ya no vi necesario dal la explicación otra vez :3\n",
        "def separaDatos(Datos):\n",
        "    ints=[]\n",
        "    floats=[]\n",
        "    strings=[]\n",
        "    booleanos=[]\n",
        "\n",
        "    for dato in Datos:\n",
        "        if isinstance(dato, bool): #puse primero  los boleanos porque el los ints se los volanteaban\n",
        "            booleanos.append(dato)\n",
        "        elif isinstance(dato, int):\n",
        "            ints.append(dato)\n",
        "        elif isinstance(dato, float):\n",
        "            floats.append(dato)\n",
        "        elif isinstance(dato, str):\n",
        "            strings.append(dato)\n",
        "    print(\"Datos tipo int:\" + str(ints))\n",
        "    print(\"Datos tipo float:\" + str(floats))\n",
        "    print(\"Datos tipo str:\" + str(strings))\n",
        "    print(\"Datos tipo bool:\" + str(booleanos))\n",
        "\n",
        "Datos = [5, 2.4, \"hola\", 7, 10, 3.14, True, False, \"Hi\", 0, 0.265]\n",
        "\n",
        "separaDatos(Datos)\n"
      ],
      "metadata": {
        "colab": {
          "base_uri": "https://localhost:8080/"
        },
        "id": "15Ga_rNpXzSf",
        "outputId": "fa028681-fe18-4e9c-84de-e7fa875931bf"
      },
      "execution_count": null,
      "outputs": [
        {
          "output_type": "stream",
          "name": "stdout",
          "text": [
            "Datos tipo int:[5, 7, 10, 0]\n",
            "Datos tipo float:[2.4, 3.14, 0.265]\n",
            "Datos tipo str:['hola', 'Hi']\n",
            "Datos tipo bool:[True, False]\n"
          ]
        }
      ]
    },
    {
      "cell_type": "markdown",
      "source": [
        "Ejercicio 8. Imprimir pirámide de asteriscos. Función que imprima una pirámide de asteriscos, donde el número de niveles de la pirámide sea un valor dado."
      ],
      "metadata": {
        "id": "7WeTqYhCa9Fq"
      }
    },
    {
      "cell_type": "code",
      "source": [
        "def piramide(niveles):\n",
        "    for i in range(niveles):\n",
        "        asteriscos='*'*(i+1) #i empieza en cero hasta el numero que haya ingresado el usuario, entonces se le suma uno para que empiece en 1, si no el primer nvl no se imprimiría nada y se vería como si estuviera incompleta\n",
        "        print(asteriscos)\n",
        "\n",
        "niveles=int(input(\"Ingrese el número de niveles: \"))\n",
        "\n",
        "piramide(niveles)\n"
      ],
      "metadata": {
        "colab": {
          "base_uri": "https://localhost:8080/"
        },
        "id": "UGGCvwepctow",
        "outputId": "62634d1b-a432-4d73-a41d-d37b79e71668"
      },
      "execution_count": null,
      "outputs": [
        {
          "output_type": "stream",
          "name": "stdout",
          "text": [
            "Ingrese el número de niveles: 7\n",
            "*\n",
            "**\n",
            "***\n",
            "****\n",
            "*****\n",
            "******\n",
            "*******\n"
          ]
        }
      ]
    },
    {
      "cell_type": "markdown",
      "source": [
        "Ejercicio 9. Escriba una función que calcule el factorial de un número, el cual debe ser ingresado por el usuario, después usted debe validar que sea un número natural mayor o igual a cero y en caso de que ingrese un número negativo, una letra o cadena, debe pedir nuevamente el número al usuario."
      ],
      "metadata": {
        "id": "eVHAxDzPiL1l"
      }
    },
    {
      "cell_type": "code",
      "source": [
        "def factorial(nchido): #la función recibe el numero que ya estamos seguros que no es menor a 0\n",
        "    if nchido == 0:\n",
        "        return 1\n",
        "    factorial= 1 # el factorial de 0 es 1\n",
        "    for i in range(1, nchido + 1):\n",
        "        factorial*= i\n",
        "    print(\"El factorial de \" +str(nchido) + \" es:\"+ str(factorial))\n",
        "\n",
        "n = int(input(\"Ingrese un número natural (mayor o igual a 0): \"))\n",
        "while n < 0:\n",
        "   n=int(input(\"Ingrese un número natural (MAYOR O IGUAL a 0) \"))# revisa que sea mayor o igual que 0\n",
        "nchido=n\n",
        "factorial(nchido)\n"
      ],
      "metadata": {
        "colab": {
          "base_uri": "https://localhost:8080/"
        },
        "id": "oiH8yKVfkE73",
        "outputId": "07b8acd8-ffdb-43ab-95ed-fdfa4d71b4f1"
      },
      "execution_count": null,
      "outputs": [
        {
          "output_type": "stream",
          "name": "stdout",
          "text": [
            "Ingrese un número natural (mayor o igual a 0): -4\n",
            "Ingrese un número natural (MAYOR O IGUAL a 0) -5\n",
            "Ingrese un número natural (MAYOR O IGUAL a 0) 5\n",
            "El factorial de 5 es:120\n"
          ]
        }
      ]
    }
  ]
}