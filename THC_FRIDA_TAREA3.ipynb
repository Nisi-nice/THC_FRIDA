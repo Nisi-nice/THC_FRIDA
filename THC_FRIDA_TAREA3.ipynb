{
  "nbformat": 4,
  "nbformat_minor": 0,
  "metadata": {
    "colab": {
      "provenance": [],
      "authorship_tag": "ABX9TyM2Xzpgj15a6CmQ5Dpy7RhM",
      "include_colab_link": true
    },
    "kernelspec": {
      "name": "python3",
      "display_name": "Python 3"
    },
    "language_info": {
      "name": "python"
    }
  },
  "cells": [
    {
      "cell_type": "markdown",
      "metadata": {
        "id": "view-in-github",
        "colab_type": "text"
      },
      "source": [
        "<a href=\"https://colab.research.google.com/github/Nisi-nice/THC_FRIDA/blob/main/THC_FRIDA_TAREA3.ipynb\" target=\"_parent\"><img src=\"https://colab.research.google.com/assets/colab-badge.svg\" alt=\"Open In Colab\"/></a>"
      ]
    },
    {
      "cell_type": "markdown",
      "source": [
        "\"Hola, soy frida, en vista de que los ejercicios de *Sintaxis, comentarios y tipos de datos* son los siguientes:\n",
        "\n",
        "**Ejercicio 2: Comentarios Descriptivos** 2. Escribe un programa simple que realice una tarea específica, como calcular el área de un rectángulo o imprimir una tabla de multiplicar. Agrega comentarios descriptivos en el código para explicar cada paso del proceso.\n",
        "\n",
        "\n",
        "**Ejercicio 3: Comentarios Informativos** 5. Escribe un programa que resuelva un problema o realice una tarea interesante. Agrega comentarios informativos que expliquen la lógica detrás de cada paso importante del programa.\n",
        "\n",
        "**Ejercicio 6: Creación de un Programa con Comentarios de Uso** 9. Escribe un programa que sea útil para los usuarios. Agrega comentarios al principio del programa que expliquen cómo se usa el programa y qué se espera que hagan los usuarios.\n",
        "\n",
        "Estos ejercicios te ayudarán a practicar la sintaxis de Python, la creación de comentarios informativos y la corrección de errores comunes.\n",
        "\n",
        "y los ejercicios de *Variables*\n",
        "quedan muy bien para los ejercicios de comentarios, pues voy a poner los comentarios en los primeros ejercicios de variables.\n",
        "\n",
        "\n",
        "A los comentarios les voy a poner 2, 3 o 6 según sea el caso c:"
      ],
      "metadata": {
        "id": "e9rbnLLcm3bR"
      }
    },
    {
      "cell_type": "markdown",
      "source": [
        "1. Calculadora simple.\n",
        "\n",
        "Que solicite al usuario 2 números y realice suma, resta, multiplicación y división, muestra los resultados usando variables."
      ],
      "metadata": {
        "id": "8yzTT4KmTjsh"
      }
    },
    {
      "cell_type": "code",
      "execution_count": null,
      "metadata": {
        "colab": {
          "base_uri": "https://localhost:8080/"
        },
        "id": "tkQD60dHTIdq",
        "outputId": "aae4a94d-ea5f-4bfa-dfe8-5f7e7ec91be6"
      },
      "outputs": [
        {
          "output_type": "stream",
          "name": "stdout",
          "text": [
            " Escriba un número5\n",
            "Escriba /*-+ según la operación que desee realizar+\n",
            " Escriba otro número5\n",
            "El resultado es: 10.0\n"
          ]
        }
      ],
      "source": [
        "#6. Se espera que éste codigo sirva para calcular operaciones básicas entre dos números dados por el usuario.\n",
        "#3. Se le asigna variables a los dos números que ingresará el usuario para poder manejar numeros distintos cada vez que el usuario vuelva a entrar.\n",
        "n1=float(input(\" Escriba un número \"))\n",
        "#3. Con éste input se sabe que operación desea hacer el usuario.\n",
        "operacion=input(\"Escriba /*-+ según la operación que desee realizar \")\n",
        "n2=float(input(\" Escriba otro número \"))\n",
        " #3. Aquí se le asigna un tipo de valor a la variable que guarda el resultado y empieza como cero porque más tarde se le añadirá el valor que arroje la formula que use.\n",
        "resultado=float(0)\n",
        "#3. Con los datos del input operación se puede decidir qué operación debe hacer el programa, ve discriminando hasta dar con la opción que eligió el usuario\n",
        "if operacion==\"/\":\n",
        "   #2. Ya que sabemos la operación que quiere el usuario, le asignamos una formula a la variable que guarda el resultado.\n",
        "  resultado=n1/n2\n",
        "elif operacion==\"*\":\n",
        "  resultado=n1*n2\n",
        "elif operacion==\"-\":\n",
        "  resultado=n1-n2\n",
        "elif operacion==\"+\":\n",
        "  resultado=n1+n2\n",
        "\n",
        "print(\"El resultado es: \"+str(resultado))"
      ]
    },
    {
      "cell_type": "markdown",
      "source": [],
      "metadata": {
        "id": "bGiuzgsgm1dd"
      }
    },
    {
      "cell_type": "markdown",
      "source": [
        "2. Conversión de temperatura.\n",
        "\n",
        "Que el usuario ingrese una temperatura en grados ceslcius y la convierta a fahrenheit usando una variable para almacenar la formula de conversión"
      ],
      "metadata": {
        "id": "quouwlHtV4xh"
      }
    },
    {
      "cell_type": "code",
      "source": [
        "#6: El usuario mete temperatura en celcius y el programa le regresa la temperatura en grados fahrenheit\n",
        "#3. Pide un número de grados\n",
        "celcius=float(input(\" Ingrese grados celcius \"))\n",
        "#2. Aqui se pone la formula de conversión en la variable \"Formula\" para facilitar imprimirlo después, además la misma fomula pide el valor que dió el usuario.\n",
        "Formula=(celcius*9/5)+32\n",
        "#3. Imprime el valor en grador fahrenheit, la variable se pone como str para que pueda acompañar al texto: \"La temperatura en grados Fahrenheit es: \".\n",
        "print(\"La temperatura en grados Fahrenheit es: \"+str(Formula))"
      ],
      "metadata": {
        "colab": {
          "base_uri": "https://localhost:8080/"
        },
        "id": "ch9v7ADiXPbL",
        "outputId": "c9b73734-3866-423f-b360-f70dd78ebe5d"
      },
      "execution_count": null,
      "outputs": [
        {
          "output_type": "stream",
          "name": "stdout",
          "text": [
            " Ingrese grados celcius45.9\n",
            "La temperatura en grados Fahrenheit es: 114.61999999999999\n"
          ]
        }
      ]
    },
    {
      "cell_type": "markdown",
      "source": [
        "4. Contador de palabras\n",
        "\n",
        "Que tome una cadena de texto y cuente sus palabras, con una variable para el contador."
      ],
      "metadata": {
        "id": "JS7trg9xXzwR"
      }
    },
    {
      "cell_type": "code",
      "source": [
        "#6. El programa cuenta las palabras a partir de separar la cadena por los espacios en el texto.\n",
        "#3. Aqui se le pide un texto al usuario.\n",
        "cadena=str(input(\" Ingrese frase \"))\n",
        "#3. Se le asigna una variable al contador para que ahí se puedan ir acumulando las palabras que se identifican.\n",
        "contador=0\n",
        "#3. Éste for sirve para que se vaya sumando 1 al contador hasta que ya no haya espacios en la cadena de texto.\n",
        "for espacios in cadena:\n",
        "  #3. Si se identifica un espacio se cuenta una palabra más para el contador\n",
        "  if espacios==\" \":\n",
        "    contador=contador+1\n",
        "#3. Se imprime el valor final que quedo en el contador.\n",
        "print(\"Palabras en tu frase es: \"+str(contador+1))"
      ],
      "metadata": {
        "colab": {
          "base_uri": "https://localhost:8080/"
        },
        "id": "i9QPry6cYSKP",
        "outputId": "63418877-39b8-4420-a869-df29a212e2f0"
      },
      "execution_count": null,
      "outputs": [
        {
          "output_type": "stream",
          "name": "stdout",
          "text": [
            " Ingrese fraseula ula ula\n",
            "El número de palabras es: 3\n"
          ]
        }
      ]
    },
    {
      "cell_type": "markdown",
      "source": [
        "6. Cálculo de promedio.\n",
        "\n",
        "Que el ususuario ingrese numeros separados por comas y calcule el promedio usando variables."
      ],
      "metadata": {
        "id": "3VI4ABpNZDJp"
      }
    },
    {
      "cell_type": "code",
      "source": [
        "#6. Éste codigo sirve para que el usuario de algunos números y con esos valores que hace un promedio\n",
        "#3. El usuario da números separados por comas y se guarda en una cadena que se llama lista (porque es una lista de números XD).\n",
        "lista=str(input(\" Ingrese numeros separados por coma \"))\n",
        "#3. La lista de números se separa en cadenitas separadar por comas\n",
        "lista=lista.split(\",\")\n",
        "#3. Se le asigna una variable a donde se va a guardar el total de la suma de los valores de las \"cadenitas\" que se separaron con el split\n",
        "suma=0\n",
        "#3. Mientras siga habiendo numeros o \"cadenitas\" en la lista, se van sumando las cadenitas que se llaman número y les asignamos el tipo de dato float para que pueda manejar numeros no enteros va a añadir numero al valor de la suma\n",
        "for numero in lista:\n",
        "  numero=float(numero)\n",
        "  suma=suma+numero\n",
        "\n",
        "#3. el promedio es el valor total de la suma del valor de los numeros y se divide entre el numero de elementos que había en la lista que ingresó el ususario\n",
        "promedio=suma/len(lista)\n",
        "#3. promedio lo pones como string para que se oueda escribir con texto\n",
        "print(\"El promedio es: \"+ str(promedio))"
      ],
      "metadata": {
        "colab": {
          "base_uri": "https://localhost:8080/"
        },
        "id": "pF46o_w7ZX61",
        "outputId": "0455380f-ab06-4829-eba7-7ab5ad7a22b9"
      },
      "execution_count": null,
      "outputs": [
        {
          "output_type": "stream",
          "name": "stdout",
          "text": [
            " Ingrese numeros separados por coma 5,5,5,5,5\n",
            "El promedio es: 5.0\n"
          ]
        }
      ]
    },
    {
      "cell_type": "markdown",
      "source": [
        "10. Registro de estudiantes.\n",
        "\n",
        "Que se puedan almacenar nombres, calificaciones y promedio de estudiantes\n",
        "\n",
        "---\n",
        "\n"
      ],
      "metadata": {
        "id": "a18WUDVhY8NC"
      }
    },
    {
      "cell_type": "code",
      "source": [
        "#6. EL profe pone los datos de un alumno y puede seguir metiendo datos de alumnos hasta que ya no quiera y se queda registrado lo que ya había puesto\n",
        "#se le asignan variables a los datos que el profe mete, i.e. nombre y calificaciones\n",
        "alumno=str(input(\" Ingrese el nombre completo del estudiante: \"))\n",
        "#3. a la lista donde se van a guardar toooodos los datos se pone el nombre\n",
        "lista=[alumno]\n",
        "calificaciones=str(input(\" Ingrese las calificaciones separadas por coma \"))\n",
        "#3 A la lista se le añadel las calificaciones y con esos datos se saca el promedio como lo explique en el ejercicio pasado\n",
        "lista.append(calificaciones)\n",
        "calificaciones=calificaciones.split(\",\")\n",
        "suma=0\n",
        "for calif in calificaciones:\n",
        "  calif=float(calif)\n",
        "  suma=suma+calif\n",
        "promedio=suma/len(calificaciones)\n",
        "#3. se le añade el promedio a la lista, lo voy haciendo así para que una vez que obtiene un valor lo ponga en orden porque si no pone el de otra persona o en el lugar de otra persona\n",
        "lista.append(promedio)\n",
        "print(\"El promedio del estudiante \"+ alumno +\" es \" + str(promedio))\n",
        "\n",
        "otro=str(input(\" ¿desea añadir otro estudiante? si o no \"))\n",
        "#3. aqui le pregunta si quiere poner mas datos, si no, le arroja los datos que se guardaro en la lista, pero mientras sea sí, le va a dejar poner más y más personas y calificaciones\n",
        "while otro==\"si\":\n",
        "  alumno=str(input(\" Ingrese el nombre completo del estudiante: \"))\n",
        "  lista.append(alumno)\n",
        "  calificaciones=str(input(\" Ingrese las calificaciones separadas por coma \"))\n",
        "  lista.append(calificaciones)\n",
        "  calificaciones=calificaciones.split(\",\")\n",
        "  suma=0\n",
        "  for calif in calificaciones:\n",
        "   calif=float(calif)\n",
        "   suma=suma+calif\n",
        "  promedio=suma/len(calificaciones)# es imprtante identar porque si no saca muchos numeros en vez de sólo un promedio :c, ya me pasó\n",
        "  lista.append(promedio)\n",
        "  print(\"El promedio del estudiante \"+ alumno +\" es \" + str(promedio))\n",
        "  #3. aqui le vuelve a preguntar al profe porque si no solo le da opción de seguir poniendo datos y no puede ver el registro, si dice que si, se vuelve a repetir, pero si dice que no, directamente le imprime la lista de alumnos, sus calificaciones y su promedio\n",
        "  otro=str(input(\" ¿desea añadir otro estudiante? si o no \"))\n",
        "#3. aqui por la identación, ya está fuera del ciclo i.e. el profe dijo ya basta y le aparecen sus alumnitos queridos y sus EXELENTES calificaciones\n",
        "print(\"estudiantes: \" + str(lista))\n",
        "\n",
        "# y ya.\n",
        "\n",
        "\n"
      ],
      "metadata": {
        "colab": {
          "base_uri": "https://localhost:8080/"
        },
        "id": "cIYj0Fonb1Wu",
        "outputId": "a59b8329-a8d4-4eb2-b4bf-1904f76d1acd"
      },
      "execution_count": null,
      "outputs": [
        {
          "output_type": "stream",
          "name": "stdout",
          "text": [
            " Ingrese el nombre completo del estudiante: jj\n",
            " Ingrese las calificaciones separadas por coma 4,8,6\n",
            "El promedio del estudiante jj es 6.0\n",
            " ¿desea añadir otro estudiante? si o no si\n",
            " Ingrese el nombre completo del estudiante: yy\n",
            " Ingrese las calificaciones separadas por coma 8,4,6\n",
            "El promedio del estudiante yy es 6.0\n",
            " ¿desea añadir otro estudiante? si o no si\n",
            " Ingrese el nombre completo del estudiante: ooo\n",
            " Ingrese las calificaciones separadas por coma 5,5,5\n",
            "El promedio del estudiante ooo es 5.0\n",
            " ¿desea añadir otro estudiante? si o no no\n",
            "estudiantes: ['jj', '4,8,6', 6.0, 'yy', '8,4,6', 6.0, 'ooo', '5,5,5', 5.0]\n"
          ]
        }
      ]
    }
  ]
}